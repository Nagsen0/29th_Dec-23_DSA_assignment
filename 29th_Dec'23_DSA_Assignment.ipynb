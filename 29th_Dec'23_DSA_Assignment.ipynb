{
  "nbformat": 4,
  "nbformat_minor": 0,
  "metadata": {
    "colab": {
      "provenance": []
    },
    "kernelspec": {
      "name": "python3",
      "display_name": "Python 3"
    },
    "language_info": {
      "name": "python"
    }
  },
  "cells": [
    {
      "cell_type": "markdown",
      "source": [
        "1. Reverse a singly linked list."
      ],
      "metadata": {
        "id": "ygrNxYMEfzfa"
      }
    },
    {
      "cell_type": "code",
      "source": [
        "class Node:\n",
        "  def __init__(self, data=None, next=None):\n",
        "    self.data = data\n",
        "    self.next = next\n",
        "\n",
        "  # method to set data\n",
        "  def setData(self, data):\n",
        "    self.data = data\n",
        "  # method to get data\n",
        "  def getData(self):\n",
        "    return self.data\n",
        "\n",
        "  # method to set next\n",
        "  def setNext(self, next):\n",
        "    self.next = next\n",
        "\n",
        "  # method to get next\n",
        "  def getNext(self):\n",
        "    return self.next\n",
        "\n",
        "\n",
        "\n",
        "def traverse(head):\n",
        "  temp = head\n",
        "  while(temp):\n",
        "    print(temp.getData(), end='->')\n",
        "    temp= temp.getNext()\n",
        "\n",
        "\n",
        "# reverse the linkedList\n",
        "\n",
        "def reverseLinkedList(head):\n",
        "  prev=None\n",
        "  current=head\n",
        "\n",
        "  while(current!=None):\n",
        "\n",
        "    next = current.getNext()\n",
        "    current.setNext(prev)\n",
        "    prev = current\n",
        "    current = next\n",
        "\n",
        "\n",
        "  head = prev\n",
        "  return head\n",
        "\n",
        "\n",
        "head = Node(1)\n",
        "node2 = Node(2)\n",
        "node3 = Node(3)\n",
        "node4 = Node(4)\n",
        "node5 = Node(5)\n",
        "\n",
        "# create a linkage\n",
        "head.setNext(node2)\n",
        "node2.setNext(node3)\n",
        "node3.setNext(node4)\n",
        "node4.setNext(node5)\n",
        "\n",
        "\n",
        "traverse(head)\n",
        "print()\n",
        "\n",
        "\n",
        "traverse(reverseLinkedList(head))"
      ],
      "metadata": {
        "colab": {
          "base_uri": "https://localhost:8080/"
        },
        "id": "_QUVZKY7f8Iu",
        "outputId": "f6407ed9-7ba0-46c3-cc22-a6c7ed99ab06"
      },
      "execution_count": null,
      "outputs": [
        {
          "output_type": "stream",
          "name": "stdout",
          "text": [
            "1->2->3->4->5->\n",
            "5->4->3->2->1->"
          ]
        }
      ]
    },
    {
      "cell_type": "markdown",
      "source": [
        "2. Merge two sorted linked lists into one sorted linked list."
      ],
      "metadata": {
        "id": "8vr1VQXz8tAR"
      }
    },
    {
      "cell_type": "code",
      "source": [
        "class Node:\n",
        "  def __init__(self, data=None, next=None):\n",
        "    self.data = data\n",
        "    self.next = next\n",
        "\n",
        "  # method to set data\n",
        "  def setData(self, data):\n",
        "    self.data = data\n",
        "\n",
        "  # method to get data\n",
        "  def getData(self):\n",
        "    return self.data\n",
        "\n",
        "  # method to set next\n",
        "  def setNext(self, next):\n",
        "    self.next = next\n",
        "\n",
        "  # method to get next\n",
        "  def getNext(self):\n",
        "    return self.next\n",
        "\n",
        "def traverse(head):\n",
        "  temp = head\n",
        "  while (temp):\n",
        "    print(temp.getData(), end= '->')\n",
        "    temp = temp.getNext()\n",
        "\n",
        "def length(head):\n",
        "  temp = head\n",
        "  len = 0\n",
        "  while (temp):\n",
        "    len+=1\n",
        "    temp = temp.getNext()\n",
        "  return len\n",
        "\n",
        "head1=Node(1)\n",
        "node2=Node(3)\n",
        "node3=Node(5)\n",
        "\n",
        "# linkage\n",
        "\n",
        "head1.setNext(node2)\n",
        "node2.setNext(node3)\n",
        "\n",
        "head2 = Node(2)\n",
        "node5=Node(4)\n",
        "node7=Node(6)\n",
        "\n",
        "# linkage\n",
        "\n",
        "head2.setNext(node5)\n",
        "node5.setNext(node7)\n",
        "\n",
        "length(head1)\n",
        "length(head2)\n",
        "\n",
        "def MergeTwoSortedLinkedList(head1, head2):\n",
        "    dummy = Node()  # Dummy head for the merged list\n",
        "    tail = dummy\n",
        "\n",
        "    while head1 and head2:\n",
        "        if head1.getData() <= head2.getData():\n",
        "            tail.setNext(head1)\n",
        "            head1 = head1.getNext()\n",
        "        else:\n",
        "            tail.setNext(head2)\n",
        "            head2 = head2.getNext()\n",
        "        tail = tail.getNext()\n",
        "\n",
        "    tail.setNext(head1 or head2)  # Append remaining nodes from either list\n",
        "    return dummy.getNext()  # Return the actual head of the merged list\n",
        "\n",
        "traverse(head1)\n",
        "print()\n",
        "\n",
        "traverse(head2)\n",
        "print()\n",
        "\n",
        "traverse(MergeTwoSortedLinkedList(head1, head2))"
      ],
      "metadata": {
        "colab": {
          "base_uri": "https://localhost:8080/"
        },
        "id": "H0f7_Pvu5_F-",
        "outputId": "61e404c8-7ea8-4b9e-8e2e-84fb6e89388e"
      },
      "execution_count": null,
      "outputs": [
        {
          "output_type": "stream",
          "name": "stdout",
          "text": [
            "1->3->5->\n",
            "2->4->6->\n",
            "1->2->3->4->5->6->"
          ]
        }
      ]
    },
    {
      "cell_type": "markdown",
      "source": [
        "3. Remove the nth node from the end of a linked list."
      ],
      "metadata": {
        "id": "6vVvNn524GXd"
      }
    },
    {
      "cell_type": "code",
      "source": [
        "class Node:\n",
        "  def __init__(self, data=None, next=None):\n",
        "    self.data = data\n",
        "    self.next = next\n",
        "\n",
        "  # method to set data\n",
        "  def setData(self, data):\n",
        "    self.data = data\n",
        "\n",
        "  # method to get data\n",
        "  def getData(self):\n",
        "    return self.data\n",
        "\n",
        "  # method set next\n",
        "  def setNext(self, next):\n",
        "    self.next = next\n",
        "\n",
        "  # method to get next\n",
        "  def getNext(self):\n",
        "    return self.next\n",
        "\n",
        "\n",
        "\n",
        "def traverse(head):\n",
        "  temp=head\n",
        "  while(temp):\n",
        "    print(temp.getData(),end='->')\n",
        "    temp=temp.getNext()\n",
        "\n",
        "\n",
        "def length(head):\n",
        "  temp = head\n",
        "  len=0\n",
        "  while(temp):\n",
        "    len+=1\n",
        "    temp=temp.getNext()\n",
        "\n",
        "  return len\n",
        "\n",
        "\n",
        "def remove_Nth_NodeFromEndOfLinkedList(head,n):\n",
        "\n",
        "  # check if linked list is empty itself and valid nth node\n",
        "  if (n<=0 or n>length(head) or not head):\n",
        "    return head\n",
        "\n",
        "  if n==length(head):\n",
        "    head=head.getNext()\n",
        "    return head\n",
        "  i=0\n",
        "  prev=head\n",
        "  while(i<=(length(head)-(n+2))):\n",
        "    prev=prev.getNext()\n",
        "    i+=1\n",
        "\n",
        "  # here prev will be at n+1 th position from end\n",
        "\n",
        "  prev.setNext(prev.getNext().getNext())\n",
        "  return head\n",
        "\n",
        "\n",
        "# create a object\n",
        "head=Node(1)\n",
        "node2=Node(2)\n",
        "node3 = Node(3)\n",
        "node4=Node(4)\n",
        "node5=Node(5)\n",
        "\n",
        "# create Linkage\n",
        "head.setNext(node2)\n",
        "node2.setNext(node3)\n",
        "node3.setNext(node4)\n",
        "node4.setNext(node5)\n",
        "\n",
        "traverse(head)\n",
        "print()\n",
        "\n",
        "remove_node=remove_Nth_NodeFromEndOfLinkedList(head,2)\n",
        "traverse(remove_node)"
      ],
      "metadata": {
        "colab": {
          "base_uri": "https://localhost:8080/"
        },
        "id": "EMR1Kysc5FVp",
        "outputId": "a75ce488-35fb-4bed-d991-c398aaef3e26"
      },
      "execution_count": null,
      "outputs": [
        {
          "output_type": "stream",
          "name": "stdout",
          "text": [
            "1->2->3->4->5->\n",
            "1->2->3->5->"
          ]
        }
      ]
    },
    {
      "cell_type": "markdown",
      "source": [
        "4. Find the intersection point of two linked lists."
      ],
      "metadata": {
        "id": "r2wjYc2cRzxl"
      }
    },
    {
      "cell_type": "code",
      "source": [
        "class Node:\n",
        "    def __init__(self, data):\n",
        "        self.data = data\n",
        "        self.next = None\n",
        "\n",
        "def getIntersectionNode(head1, head2):\n",
        "\n",
        "    # Get lengths of lists\n",
        "    len1 = getLength(head1)\n",
        "    len2 = getLength(head2)\n",
        "\n",
        "    # Move the longer list forward by the difference in lengths\n",
        "    if len1 > len2:\n",
        "        longer = head1\n",
        "        shorter = head2\n",
        "        diff = len1 - len2\n",
        "    else:\n",
        "        longer = head2\n",
        "        shorter = head1\n",
        "        diff = len2 - len1\n",
        "\n",
        "    for _ in range(diff):\n",
        "        longer = longer.next\n",
        "\n",
        "    # Traverse both lists simultaneously until an intersection is found\n",
        "    while shorter and longer:\n",
        "        if shorter == longer:\n",
        "            return shorter\n",
        "        shorter = shorter.next\n",
        "        longer = longer.next\n",
        "\n",
        "    return None  # No intersection found\n",
        "\n",
        "def getLength(head):\n",
        "\n",
        "    length = 0\n",
        "    while head:\n",
        "        length += 1\n",
        "        head = head.next\n",
        "    return length\n",
        "\n",
        "\n",
        "# Create linked lists (modify values as needed)\n",
        "head1 = Node(1)\n",
        "head1.next = Node(2)\n",
        "head1.next.next = Node(3)\n",
        "head1.next.next.next = Node(4)\n",
        "\n",
        "head2 = Node(9)\n",
        "head2.next = Node(8)\n",
        "head2.next.next = head1.next.next      # Node with value 3 is the intersection point\n",
        "head2.next.next.next = head1.next.next.next\n",
        "\n",
        "# Find the intersection node\n",
        "intersection = getIntersectionNode(head1, head2)\n",
        "\n",
        "if intersection:\n",
        "    print(\"Intersection node:\", intersection.data)\n",
        "else:\n",
        "    print(\"No intersection found\")\n"
      ],
      "metadata": {
        "id": "X0Z-YCVcIfL2",
        "colab": {
          "base_uri": "https://localhost:8080/"
        },
        "outputId": "63824ad8-853a-417f-934f-7701c9770b81"
      },
      "execution_count": 3,
      "outputs": [
        {
          "output_type": "stream",
          "name": "stdout",
          "text": [
            "Intersection node: 3\n"
          ]
        }
      ]
    },
    {
      "cell_type": "markdown",
      "source": [
        "5. Remove duplicate from a sorted linked list."
      ],
      "metadata": {
        "id": "PwT8EIp6yEHb"
      }
    },
    {
      "cell_type": "code",
      "source": [
        "class Node:\n",
        "  def __init__(self, data=None, next=None):\n",
        "    self.data = data\n",
        "    self.next = next\n",
        "\n",
        "  # method to set data\n",
        "  def setData(self, data):\n",
        "    self.data = data\n",
        "\n",
        "  # method to get data\n",
        "  def getData(self):\n",
        "    return self.data\n",
        "\n",
        "  # method to set next\n",
        "  def setNext(self, next):\n",
        "    self.next = next\n",
        "\n",
        "  # method to get next\n",
        "  def getNext(self):\n",
        "    return self.next\n",
        "\n",
        "\n",
        "\n",
        "def traverse(head):\n",
        "  temp = head\n",
        "  while(temp):\n",
        "    print(temp.getData(), end='->')\n",
        "    temp= temp.getNext()\n",
        "\n",
        "def remove_Duplicate_From_SortedLinkedList(head):\n",
        "\n",
        "    prev = head\n",
        "    current = head\n",
        "    next = head.getNext()\n",
        "\n",
        "    while next:\n",
        "      if current.getData() == next.getData():\n",
        "        current.setNext(next.getNext())  # Skip the duplicate\n",
        "      else:\n",
        "        prev = current  # Move both pointers only when no duplicates\n",
        "\n",
        "      current = next   # Always move to the next node\n",
        "      next = next.getNext()\n",
        "\n",
        "      if current == head.getNext():  # Update prev only when necessary\n",
        "        prev = head\n",
        "\n",
        "\n",
        "    return head\n",
        "\n",
        "\n",
        "\n",
        "\n",
        "head = Node(1)\n",
        "node2 = Node(1)\n",
        "node3 = Node(2)\n",
        "node4 = Node(3)\n",
        "node5 = Node(3)\n",
        "\n",
        "# create a linkage\n",
        "head.setNext(node2)\n",
        "node2.setNext(node3)\n",
        "node3.setNext(node4)\n",
        "node4.setNext(node5)\n",
        "\n",
        "traverse(head)\n",
        "print()\n",
        "\n",
        "head = remove_Duplicate_From_SortedLinkedList(head)\n",
        "traverse(head)"
      ],
      "metadata": {
        "colab": {
          "base_uri": "https://localhost:8080/"
        },
        "id": "8g98twfOyLWB",
        "outputId": "c870b849-e8f4-48cd-a293-dea507d5d10a"
      },
      "execution_count": null,
      "outputs": [
        {
          "output_type": "stream",
          "name": "stdout",
          "text": [
            "1->1->2->3->3->\n",
            "1->2->3->"
          ]
        }
      ]
    },
    {
      "cell_type": "markdown",
      "source": [
        "6. Add two numbers represented by linked list (where each node contains a single digit).\n",
        "input: list1: 2->4->3, list2: 5->6->4 (represents 342 + 465)\n",
        "output: 7->0->8 (represents 807)"
      ],
      "metadata": {
        "id": "ECRaYcLaO23P"
      }
    },
    {
      "cell_type": "code",
      "source": [
        "class Node:\n",
        "  def __init__(self, data=None , next = None):\n",
        "    self.data = data\n",
        "    self.next = next\n",
        "\n",
        "  def setData(self, data):\n",
        "    self.data = data\n",
        "\n",
        "  def getData(self):\n",
        "    return self.data\n",
        "\n",
        "  def setNext(self, next):\n",
        "    self.next = next\n",
        "\n",
        "  def getNext(self):\n",
        "    return self.next\n",
        "\n",
        "\n",
        "def traverse(head):\n",
        "    temp = head\n",
        "    while(temp):\n",
        "      print(temp.getData(), end ='->')\n",
        "      temp = temp.getNext()\n",
        "\n",
        "def length(head):\n",
        "  temp=head\n",
        "  len=0\n",
        "  while(temp):\n",
        "    len+=1\n",
        "    temp=temp.getNext()\n",
        "  return len\n",
        "\n",
        "\n",
        "head1=Node(1)\n",
        "node2=Node(9)\n",
        "node3=Node(3)\n",
        "\n",
        "head1.setNext(node2)\n",
        "node2.setNext(node3)\n",
        "\n",
        "\n",
        "head2=Node(2)\n",
        "node2=Node(9)\n",
        "node3 = Node(8)\n",
        "\n",
        "head2.setNext(node2)\n",
        "node2.setNext(node3)\n",
        "\n",
        "\n",
        "def add_two_number_representedBy_linkedList(head1, head2):\n",
        "  n = length(head1)\n",
        "  count=0\n",
        "  dummy= Node(None)\n",
        "  head3=dummy\n",
        "  while(count<n):\n",
        "\n",
        "    sum=head1.getData() + head2.getData()\n",
        "    if sum<10:\n",
        "      node1=Node(sum)\n",
        "      head3.setNext(node1)\n",
        "      head3=head3.getNext()\n",
        "\n",
        "      head1=head1.getNext()\n",
        "      head2=head2.getNext()\n",
        "\n",
        "    elif sum>=10 and count<n-1:\n",
        "      node1=Node(sum%10)\n",
        "      head1=Node(head1.getNext().getData()+1)\n",
        "      head2=head2.getNext()\n",
        "      head3.setNext(node1)\n",
        "      head3= head3.getNext()\n",
        "\n",
        "    else:\n",
        "      node1=Node(sum)\n",
        "      head3.setNext(node1)\n",
        "      head3=head3.getNext()\n",
        "\n",
        "    count+=1\n",
        "  dummy=dummy.getNext()\n",
        "  return dummy\n",
        "\n",
        "traverse(head1)\n",
        "print()\n",
        "\n",
        "traverse(head2)\n",
        "print()\n",
        "\n",
        "dummy=add_two_number_representedBy_linkedList(head1, head2)\n",
        "traverse(dummy)"
      ],
      "metadata": {
        "id": "T-4eDBO4ApS5",
        "colab": {
          "base_uri": "https://localhost:8080/"
        },
        "outputId": "d96d3013-97e1-4a32-b4ac-2f5413713b07"
      },
      "execution_count": null,
      "outputs": [
        {
          "output_type": "stream",
          "name": "stdout",
          "text": [
            "1->9->3->\n",
            "2->9->8->\n",
            "3->8->12->"
          ]
        }
      ]
    },
    {
      "cell_type": "markdown",
      "source": [
        "7. Swap nodes in pairs in a linked list.\n",
        "input: 1->2->3->4\n",
        "output: 2->1->4->3"
      ],
      "metadata": {
        "id": "uJriKjiHQ6Hi"
      }
    },
    {
      "cell_type": "code",
      "source": [
        "class Node:\n",
        "  # constructor method\n",
        "  def __init__(self, data=None, next=None):\n",
        "    self.data = data\n",
        "    self.next = next\n",
        "\n",
        "  # method to set data\n",
        "  def setData(self, data):\n",
        "    self.data = data\n",
        "\n",
        "  # method to get data\n",
        "  def getData(self):\n",
        "    return self.data\n",
        "\n",
        "  # method to set next\n",
        "  def setNext(self, next):\n",
        "    self.next = next\n",
        "\n",
        "  # method to get next\n",
        "  def getNext(self):\n",
        "    return self.next\n",
        "\n",
        "\n",
        "def traverse(head):\n",
        "  temp = head\n",
        "  while (temp):\n",
        "    print(temp.data, end = '->')\n",
        "    temp= temp.getNext()\n",
        "\n",
        "\n",
        "def swapNodes_In_Pairs(head):\n",
        "\n",
        "    # Handle empty or single-node lists\n",
        "    if not head or not head.next:\n",
        "        return head\n",
        "\n",
        "    # Start from the second node\n",
        "    dummy = head.getNext()\n",
        "    prev = Node()\n",
        "    current=head\n",
        "    next = head.getNext()\n",
        "\n",
        "    # check for empty linked list and single node list\n",
        "    if not head or not head.getNext():\n",
        "      return head\n",
        "\n",
        "    while next:\n",
        "      current.setNext(next.getNext())\n",
        "      next.setNext(current)\n",
        "      prev.setNext(next)\n",
        "\n",
        "      if current.getNext():\n",
        "        prev=next.getNext()\n",
        "        next = current.getNext().getNext()\n",
        "        current = current.getNext()\n",
        "\n",
        "      else:  # break if the length is even, handle boundary condition\n",
        "        break\n",
        "\n",
        "    return dummy\n",
        "\n",
        "head = Node(1)\n",
        "node2 = Node(2)\n",
        "node3 = Node(3)\n",
        "node4 = Node(4)\n",
        "\n",
        "# create linkage\n",
        "\n",
        "head.setNext(node2)\n",
        "node2.setNext(node3)\n",
        "node3.setNext(node4)\n",
        "\n",
        "\n",
        "traverse(head)\n",
        "print()\n",
        "\n",
        "traverse(swapNodes_In_Pairs(head))"
      ],
      "metadata": {
        "colab": {
          "base_uri": "https://localhost:8080/"
        },
        "id": "wW9LcsqERMos",
        "outputId": "61fbd589-6c95-404c-8e6c-f4de9a869bca"
      },
      "execution_count": null,
      "outputs": [
        {
          "output_type": "stream",
          "name": "stdout",
          "text": [
            "1->2->3->4->\n",
            "2->1->4->3->"
          ]
        }
      ]
    },
    {
      "cell_type": "markdown",
      "source": [
        "8. Reverse nodes in a linked list in groups of k.\n",
        "\n",
        "input: 1->2->3->4->5, k=3\n",
        "output: 3->2->1->4->5"
      ],
      "metadata": {
        "id": "Tn4BJC2Ec2CK"
      }
    },
    {
      "cell_type": "code",
      "source": [
        "class Node:\n",
        "  # instructor method\n",
        "  def __init__(self, data = None, next = None):\n",
        "    self.data = data\n",
        "    self.next = next\n",
        "\n",
        "  # method to set data\n",
        "  def setData(self, data):\n",
        "    self.data = data\n",
        "\n",
        "  # method to get data\n",
        "\n",
        "  def getData(self):\n",
        "    return self.data\n",
        "\n",
        "  # method to set next\n",
        "  def setNext(self, next):\n",
        "    self.next = next\n",
        "\n",
        "  # method to get next\n",
        "  def getNext(self):\n",
        "    return self.next\n",
        "\n",
        "\n",
        "def traverse(head):\n",
        "  temp = head\n",
        "  while(temp):\n",
        "    print(temp.getData(), end = '->')\n",
        "    temp = temp.getNext()\n",
        "\n",
        "\n",
        "def length(head):\n",
        "  temp = head\n",
        "  len = 0\n",
        "  while(temp):\n",
        "    len +=1\n",
        "    temp = temp.getNext()\n",
        "\n",
        "  return len\n",
        "\n",
        "def reverse_first_k_nodes(head,k):\n",
        "  # check for valid k and empty head\n",
        "  if k<=0 or k>length(head) or not head:\n",
        "    return head\n",
        "  prev = None\n",
        "  current = head\n",
        "  dummy = head    # pointer on previos head\n",
        "  i=0\n",
        "  while (i<k):\n",
        "    next = current.getNext()\n",
        "    current.setNext(prev)\n",
        "    prev = current\n",
        "    current = next\n",
        "    i+=1\n",
        "  dummy.setNext(current)\n",
        "  head = prev\n",
        "  return head\n",
        "\n",
        "head = Node(1)\n",
        "node2 = Node(2)\n",
        "node3 = Node(3)\n",
        "node4 = Node(4)\n",
        "node5 = Node(5)\n",
        "\n",
        "# create linkage\n",
        "\n",
        "head.setNext(node2)\n",
        "node2.setNext(node3)\n",
        "node3.setNext(node4)\n",
        "node4.setNext(node5)\n",
        "\n",
        "traverse(head)\n",
        "print()\n",
        "\n",
        "traverse(reverse_first_k_nodes(head,k=3))"
      ],
      "metadata": {
        "colab": {
          "base_uri": "https://localhost:8080/"
        },
        "id": "qt4NIQ_Lb1i-",
        "outputId": "8983f65f-90a5-4592-b767-e3e3a40d83db"
      },
      "execution_count": null,
      "outputs": [
        {
          "output_type": "stream",
          "name": "stdout",
          "text": [
            "1->2->3->4->5->\n",
            "3->2->1->4->5->"
          ]
        }
      ]
    },
    {
      "cell_type": "markdown",
      "source": [
        "9. Determine if a linked list is a palindrome.\n",
        "input: 1->2->2->1\n",
        "output: True\n"
      ],
      "metadata": {
        "id": "wvzo9FWjhl26"
      }
    },
    {
      "cell_type": "code",
      "source": [
        "class Node:\n",
        "  def __init__(self, data = None, next = None):\n",
        "    self.data = data\n",
        "    self.next = next\n",
        "\n",
        "  # method to set data\n",
        "  def setData(self, data):\n",
        "    self.data = data\n",
        "\n",
        "  # method to get data\n",
        "  def getData(self):\n",
        "    return self.data\n",
        "\n",
        "  # method to set next\n",
        "  def setNext(self, next):\n",
        "    self.next = next\n",
        "\n",
        "  # method to get next\n",
        "  def getNext(self):\n",
        "    return self.next\n",
        "\n",
        "def traverse(head):\n",
        "  temp = head\n",
        "  while(temp):\n",
        "    print(temp.getData(), end = '->')\n",
        "    temp = temp.getNext()\n",
        "\n",
        "def length(head):\n",
        "  temp = head\n",
        "  len = 0\n",
        "  while temp:\n",
        "    len +=1\n",
        "    temp = temp.getNext()\n",
        "\n",
        "  return len\n",
        "\n",
        "def reverse_linked_list(head):\n",
        "  prev = None\n",
        "  current = head\n",
        "  while(current):\n",
        "    next = current.getNext()\n",
        "    current.setNext(prev)\n",
        "    prev = current\n",
        "    current = next\n",
        "\n",
        "  head = prev\n",
        "  return head\n",
        "\n",
        "\n",
        "# function to check is palindrome\n",
        "\n",
        "def is_palindrome(head):\n",
        "  # handle head is empty and single node list\n",
        "  if not head or not head.getNext():\n",
        "    return True\n",
        "\n",
        "  # find the middle node\n",
        "  slow = fast = head\n",
        "  while(fast.getNext() and fast.getNext().getNext()):\n",
        "    slow = slow.getNext()\n",
        "    fast = fast.getNext().getNext()\n",
        "\n",
        "  # Reverse the second half of the list\n",
        "  second_half=reverse_linked_list(slow.getNext())\n",
        "\n",
        "  # compare the first and second halves\n",
        "  first = head\n",
        "  while(second_half):\n",
        "    if first.getData()!=second_half.getData():\n",
        "      return False\n",
        "\n",
        "    first=first.getNext()\n",
        "    second_half=second_half.getNext()\n",
        "\n",
        "  return True\n",
        "\n",
        "\n",
        "head = Node(1)\n",
        "node2 = Node(2)\n",
        "node3 = Node(2)\n",
        "node4 = Node(1)\n",
        "\n",
        "# create a linkage\n",
        "\n",
        "head.setNext(node2)\n",
        "node2.setNext(node3)\n",
        "node3.setNext(node4)\n",
        "traverse(head)\n",
        "print()\n",
        "is_palindrome(head)"
      ],
      "metadata": {
        "colab": {
          "base_uri": "https://localhost:8080/"
        },
        "id": "bEpY2sQYit39",
        "outputId": "4d71a238-ddd0-4962-c331-0ae392e31605"
      },
      "execution_count": null,
      "outputs": [
        {
          "output_type": "stream",
          "name": "stdout",
          "text": [
            "1->2->2->1->\n"
          ]
        },
        {
          "output_type": "execute_result",
          "data": {
            "text/plain": [
              "True"
            ]
          },
          "metadata": {},
          "execution_count": 51
        }
      ]
    },
    {
      "cell_type": "markdown",
      "source": [
        "10. Rotate a linked list to the right by k places.\n",
        "input: 1->2->3->4->5, k = 2\n",
        "output: 4->5->1->2->3"
      ],
      "metadata": {
        "id": "3wiyNXeRgWDP"
      }
    },
    {
      "cell_type": "code",
      "source": [
        "class Node:\n",
        "  def __init__(self, data = None, next = None):\n",
        "    self.data = data\n",
        "    self.next = next\n",
        "\n",
        "  # method to set data\n",
        "  def setData(self, data):\n",
        "    self.data = data\n",
        "\n",
        "  # method to get data\n",
        "  def getData(self):\n",
        "    return self.data\n",
        "\n",
        "  # method to set next\n",
        "  def setNext(self, next):\n",
        "    self.next = next\n",
        "\n",
        "  # method to get next\n",
        "  def getNext(self):\n",
        "    return self.next\n",
        "\n",
        "\n",
        "def traverse(head):\n",
        "  temp = head\n",
        "  while(temp):\n",
        "    print(temp.getData(), end = '->')\n",
        "    temp = temp.getNext()\n",
        "\n",
        "def length(head):\n",
        "  temp = head\n",
        "  len = 0\n",
        "  while(temp):\n",
        "    len += 1\n",
        "    temp = temp.getNext()\n",
        "  return len\n",
        "\n",
        "def reverse_linkedList(head):\n",
        "  prev = None\n",
        "  current = head\n",
        "  while (current!=None):\n",
        "    next = current.getNext()\n",
        "    current.setNext(prev)\n",
        "    prev = current\n",
        "    current = next\n",
        "\n",
        "  head = prev\n",
        "  return head\n",
        "def rotate_linked_list_to_right_by_k_places(head, k):\n",
        "  # check if head is empty or single node linked list\n",
        "  if not head or not head.getNext():\n",
        "    return head\n",
        "\n",
        "  # check for valid k rotation\n",
        "  if k<0 :\n",
        "    return head\n",
        "\n",
        "  # actual k rotation value\n",
        "  k = k%length(head)\n",
        "  # first reverse the entire linked list\n",
        "  reversed_list=reverse_linkedList(head)\n",
        "\n",
        "  i=0\n",
        "  current = reversed_list\n",
        "  prev = reversed_list\n",
        "  while(i<k-1):\n",
        "    current = current.getNext()\n",
        "    i+=1\n",
        "  next = current.getNext()\n",
        "  # Now unreverse the last length(LL)-K  nodes\n",
        "  unreverse_remaining=reverse_linkedList(next)\n",
        "  current.setNext(None)\n",
        "  # reverse the first k number of nodes\n",
        "  reverse_first=reverse_linkedList(prev)\n",
        "  # now link the reverse first k node with unreversed last nodes\n",
        "  prev.setNext(unreverse_remaining)\n",
        "  return reverse_first   # return entire Linked list\n",
        "\n",
        "head = Node(1)\n",
        "node2 = Node(2)\n",
        "node3 = Node(3)\n",
        "node4 = Node(4)\n",
        "node5 = Node(5)\n",
        "\n",
        "# create linkage\n",
        "head.setNext(node2)\n",
        "node2.setNext(node3)\n",
        "node3.setNext(node4)\n",
        "node4.setNext(node5)\n",
        "\n",
        "traverse(head)\n",
        "print()\n",
        "\n",
        "traverse(rotate_linked_list_to_right_by_k_places(head, k=2))"
      ],
      "metadata": {
        "colab": {
          "base_uri": "https://localhost:8080/"
        },
        "id": "rKndZPwXQuqR",
        "outputId": "5e143efe-e8b0-4970-bd27-c6472e3862c4"
      },
      "execution_count": null,
      "outputs": [
        {
          "output_type": "stream",
          "name": "stdout",
          "text": [
            "1->2->3->4->5->\n",
            "4->5->1->2->3->"
          ]
        }
      ]
    },
    {
      "cell_type": "markdown",
      "source": [
        "11. Flatten a multilevel doubly linked list."
      ],
      "metadata": {
        "id": "HG14x_O3AVxx"
      }
    },
    {
      "cell_type": "code",
      "source": [
        "class Node:\n",
        "    def __init__(self, val):\n",
        "        self.val = val\n",
        "        self.next = None\n",
        "        self.child = None\n",
        "\n",
        "def flatten(head):\n",
        "    if not head:\n",
        "        return None\n",
        "\n",
        "    dummy = Node(-1)\n",
        "    tail = dummy\n",
        "    stack = [head]\n",
        "\n",
        "    while stack:\n",
        "        node = stack.pop()\n",
        "        tail.next = node\n",
        "        tail = tail.next\n",
        "\n",
        "        if node.child:\n",
        "            stack.append(node.child)\n",
        "\n",
        "        if node.next:\n",
        "            stack.append(node.next)\n",
        "\n",
        "    dummy.next = dummy.next.next\n",
        "    return dummy.next\n",
        "\n",
        "# Example usage\n",
        "# Create a multi-level linked list for testing\n",
        "head = Node(1)\n",
        "head.next = Node(2)\n",
        "head.next.next = Node(3)\n",
        "head.child = Node(4)\n",
        "head.child.next = Node(5)\n",
        "head.child.next.next = Node(6)\n",
        "head.next.child = Node(7)\n",
        "head.next.child.next = Node(8)\n",
        "\n",
        "# Flatten the list\n",
        "flattened_list = flatten(head)\n",
        "\n",
        "# Print the flattened list\n",
        "print(\"Flattened list:\")\n",
        "while flattened_list:\n",
        "    print(flattened_list.val, end=\" \")\n",
        "    flattened_list = flattened_list.next\n",
        "print()"
      ],
      "metadata": {
        "colab": {
          "base_uri": "https://localhost:8080/"
        },
        "id": "vP8PV4Aalt99",
        "outputId": "55f52d54-15f8-48ea-9898-314cc211cd64"
      },
      "execution_count": 2,
      "outputs": [
        {
          "output_type": "stream",
          "name": "stdout",
          "text": [
            "Flattened list:\n",
            "2 3 7 8 4 5 6 \n"
          ]
        }
      ]
    },
    {
      "cell_type": "markdown",
      "source": [
        "12. Rearrange a linked list such that all even positioned nodes are placed at the end.\n",
        "input: 1->2->3->4-5\n",
        "output: 1->3->5->2->4"
      ],
      "metadata": {
        "id": "FXbgHLw_BBiv"
      }
    },
    {
      "cell_type": "code",
      "source": [
        "class Node:\n",
        "  def __init__(self, data = None, next = None):\n",
        "    self.data = data\n",
        "    self.next = next\n",
        "\n",
        "  # method to set data\n",
        "  def setData(self, data):\n",
        "    self.data = data\n",
        "\n",
        "  # method to get data\n",
        "  def getData(self):\n",
        "    return self.data\n",
        "\n",
        "  # method to set next\n",
        "  def setNext(self, next):\n",
        "    self.next = next\n",
        "\n",
        "  # method to get next\n",
        "  def getNext(self):\n",
        "    return self.next\n",
        "\n",
        "\n",
        "def traverse(head):\n",
        "  temp = head\n",
        "  while(temp):\n",
        "    print(temp.getData(), end='->')\n",
        "    temp = temp.getNext()\n",
        "\n",
        "def length(head):\n",
        "  temp = head\n",
        "  len = 0\n",
        "  while(temp):\n",
        "    len += 1\n",
        "    temp = temp.getNext()\n",
        "\n",
        "  return len\n",
        "\n",
        "def even_positioned_nodes_at_end(head):\n",
        "\n",
        "  # check for empty head and single and double nodes linked list\n",
        "  if not head or not head.getNext() or not head.getNext().getNext():\n",
        "    return head\n",
        "\n",
        "  dummy1 = head\n",
        "  dummy2 = head.getNext()\n",
        "  prev1 = head\n",
        "  prev2 = head.getNext()\n",
        "  fast1 = head\n",
        "  fast2 = head.getNext()\n",
        "  k = length(head)//2\n",
        "  if length(head)%2!=0:\n",
        "    k = k\n",
        "  else:\n",
        "    k = k-1\n",
        "\n",
        "  i = 0\n",
        "  while(i<k):\n",
        "    fast1 = fast1.getNext().getNext()\n",
        "    fast2 = fast2.getNext().getNext()\n",
        "    prev1.setNext(fast1)\n",
        "    prev2.setNext(fast2)\n",
        "    prev1 = fast1\n",
        "    prev2 = fast2\n",
        "    i+=1\n",
        "  prev1.setNext(dummy2)\n",
        "  head = dummy1\n",
        "  return head\n",
        "\n",
        "\n",
        "head = Node(1)\n",
        "node2 = Node(2)\n",
        "node3 = Node(3)\n",
        "node4 = Node(4)\n",
        "node5 = Node(5)\n",
        "node6 = Node(6)\n",
        "node7 = Node(7)\n",
        "node8 = Node(8)\n",
        "node9 = Node(9)\n",
        "\n",
        "# create linkage\n",
        "head.setNext(node2)\n",
        "node2.setNext(node3)\n",
        "node3.setNext(node4)\n",
        "node4.setNext(node5)\n",
        "node5.setNext(node6)\n",
        "node6.setNext(node7)\n",
        "node7.setNext(node8)\n",
        "node8.setNext(node9)\n",
        "traverse(head)\n",
        "print()\n",
        "\n",
        "even_positioned_nodes_at_end(head)\n",
        "traverse(head)"
      ],
      "metadata": {
        "colab": {
          "base_uri": "https://localhost:8080/"
        },
        "id": "VaaJL0WWBnKy",
        "outputId": "41c14475-d2d4-48d2-c3c2-f2769d078eba"
      },
      "execution_count": null,
      "outputs": [
        {
          "output_type": "stream",
          "name": "stdout",
          "text": [
            "1->2->3->4->5->6->7->8->9->\n",
            "1->3->5->7->9->2->4->6->8->"
          ]
        }
      ]
    },
    {
      "cell_type": "markdown",
      "source": [
        "13. Given a non-negative number represented as a linked list, add one to it.\n",
        "input: 1->2->3 (represents the number 123)\n",
        "output: 1->2->4 (represents the number 124)"
      ],
      "metadata": {
        "id": "68oaVeehpxrZ"
      }
    },
    {
      "cell_type": "code",
      "source": [
        "class Node:\n",
        "  def __init__(self, data =None, next = None):\n",
        "    self.data = data\n",
        "    self.next = next\n",
        "\n",
        "  # method to set data\n",
        "  def setData(self, data):\n",
        "    self.data = data\n",
        "\n",
        "  # method to get data\n",
        "  def getData(self):\n",
        "    return self.data\n",
        "\n",
        "  # method to set next\n",
        "  def setNext(self, next):\n",
        "    self.next = next\n",
        "\n",
        "  # method to get next\n",
        "  def getNext(self):\n",
        "    return self.next\n",
        "\n",
        "\n",
        "def traverse(head):\n",
        "  temp = head\n",
        "  while(temp):\n",
        "    print(temp.getData(), end='->')\n",
        "    temp = temp.getNext()\n",
        "\n",
        "def length(head):\n",
        "  temp = head\n",
        "  len = 0\n",
        "  while(temp):\n",
        "    len += 1\n",
        "    temp = temp.getNext()\n",
        "\n",
        "  return len\n",
        "\n",
        "def add_one_to_linked_list(head):\n",
        "\n",
        "  # handle empty head\n",
        "  if not head:\n",
        "    return head\n",
        "\n",
        "  if not head.getNext():\n",
        "    num = head.getData()\n",
        "    if num != None:  # to handle the empty head with None value\n",
        "      new_num = num + 1\n",
        "      head = Node(new_num)\n",
        "      return head\n",
        "\n",
        "  k=length(head)\n",
        "  prev = None\n",
        "  temp = head\n",
        "  i=0\n",
        "  while(i<k-1):\n",
        "    prev = temp\n",
        "    temp = temp.getNext()\n",
        "    i+=1\n",
        "\n",
        "  num = temp.getData()\n",
        "  if num != None: # handle empty list with None value\n",
        "\n",
        "    new_num = num + 1\n",
        "    node = Node(new_num)\n",
        "    prev.setNext(node)\n",
        "    return head\n",
        "\n",
        "\n",
        "head = Node(1)\n",
        "node2 = Node(2)\n",
        "node3 = Node(3)\n",
        "node4 = Node(4)\n",
        "node5 = Node(5)\n",
        "node6 = Node(6)\n",
        "\n",
        "\n",
        "# create a linkage\n",
        "head.setNext(node2)\n",
        "node2.setNext(node3)\n",
        "node3.setNext(node4)\n",
        "node4.setNext(node5)\n",
        "node5.setNext(node6)\n",
        "\n",
        "traverse(head)\n",
        "print()\n",
        "\n",
        "traverse(add_one_to_linked_list(head))"
      ],
      "metadata": {
        "colab": {
          "base_uri": "https://localhost:8080/"
        },
        "id": "EA8fygLlTo6n",
        "outputId": "77e706bc-6623-4f8d-bb8b-b99d3f0468a4"
      },
      "execution_count": null,
      "outputs": [
        {
          "output_type": "stream",
          "name": "stdout",
          "text": [
            "1->2->3->4->5->6->\n",
            "1->2->3->4->5->7->"
          ]
        }
      ]
    },
    {
      "cell_type": "markdown",
      "source": [
        "14. Given a sorted array and a target value, return the index if the target is found. If not, return the index where it would be inserted.\n",
        "input: nums=[1,3,5,6], target = 5\n",
        "output: 2"
      ],
      "metadata": {
        "id": "yOWlEn5SA90E"
      }
    },
    {
      "cell_type": "code",
      "source": [
        "def isSorted(arr):\n",
        "  for i in range(len(arr)-1):\n",
        "    isSorted = True\n",
        "    if arr[i]>arr[i+1]:\n",
        "      isSorted = False\n",
        "  return isSorted\n",
        "\n",
        "def find_target_value(arr, target):\n",
        "  if not isSorted(arr):\n",
        "    print('Please provide the sorted array')\n",
        "    return\n",
        "\n",
        "  left = 0\n",
        "  right = len(arr)-1\n",
        "\n",
        "  while(left<=right):\n",
        "\n",
        "    mid = int(left + (right-left)/2)  # it will reduce memory use\n",
        "\n",
        "    if arr[mid]==target:\n",
        "      return mid\n",
        "\n",
        "    elif arr[mid]>target:\n",
        "      right = mid-1\n",
        "\n",
        "    else:\n",
        "      left = mid + 1\n",
        "  # handle the case where the target should be inserted\n",
        "  if arr[mid]>target:\n",
        "    if mid == 0:\n",
        "      return 0\n",
        "    else:\n",
        "      return mid\n",
        "  else:\n",
        "    return mid+1\n",
        "arr=[2,4,6,7,8,9,12]\n",
        "print(find_target_value(arr,5))\n",
        "print(find_target_value(arr,9))"
      ],
      "metadata": {
        "id": "7gtNIWwyCjdp",
        "colab": {
          "base_uri": "https://localhost:8080/"
        },
        "outputId": "53a21ab4-6b7b-4bc2-f3df-c95b1fb5125b"
      },
      "execution_count": null,
      "outputs": [
        {
          "output_type": "stream",
          "name": "stdout",
          "text": [
            "2\n",
            "5\n"
          ]
        }
      ]
    },
    {
      "cell_type": "markdown",
      "source": [
        "15. Find the minimum element in a rotated sorted array.\n",
        "\n",
        "input: [4,5,6,7,0,1,2]\n",
        "output: 0"
      ],
      "metadata": {
        "id": "-R2JuW2hgbdM"
      }
    },
    {
      "cell_type": "code",
      "source": [
        "def find_minimum_element_in_rotated_arr(arr):\n",
        "\n",
        "  start = 0\n",
        "  n = len(arr)\n",
        "  end = n -1\n",
        "\n",
        "  while(start<=end):\n",
        "    mid = int(start + (end-start)/2)\n",
        "\n",
        "    prev = (mid-1)%n  # it ensure the index should be in range\n",
        "    next = (mid+1)%n\n",
        "\n",
        "    if arr[mid]<arr[prev] and arr[mid]< arr[next]:\n",
        "      return arr[mid]\n",
        "\n",
        "    elif arr[mid]<arr[end]:\n",
        "      end = mid-1\n",
        "    else:\n",
        "      start=mid+1\n",
        "\n",
        "\n",
        "print(find_minimum_element_in_rotated_arr([6,7,8,9,2,3]))\n",
        "print(find_minimum_element_in_rotated_arr([1,2,3,4,5,6,7,8]))\n",
        "print(find_minimum_element_in_rotated_arr([5,6,7,8,4]))"
      ],
      "metadata": {
        "id": "yoMw9HwMIsY3",
        "colab": {
          "base_uri": "https://localhost:8080/"
        },
        "outputId": "652bbc1b-af31-4f57-a0f2-46c503b3bac3"
      },
      "execution_count": null,
      "outputs": [
        {
          "output_type": "stream",
          "name": "stdout",
          "text": [
            "2\n",
            "1\n",
            "4\n"
          ]
        }
      ]
    },
    {
      "cell_type": "markdown",
      "source": [
        "16. Search for a target value in a rotated sorted array.\n",
        "\n",
        "input: nums=[4,5,6,7,0,1,2], target = 0\n",
        "output: 4"
      ],
      "metadata": {
        "id": "2K-sg4U9Rlid"
      }
    },
    {
      "cell_type": "code",
      "source": [
        "def search_target_value_in_rotated_sorted_arr(arr, target):\n",
        "  left = 0\n",
        "  n = len(arr)\n",
        "  right = n-1\n",
        "\n",
        "  while(left<=right):\n",
        "    mid = int(left + (right - left)/2)\n",
        "\n",
        "    if arr[mid]==target:\n",
        "      return mid\n",
        "\n",
        "    if arr[left]<=arr[mid]:\n",
        "      if target>=arr[left] and target < arr[mid]:\n",
        "        right = mid-1  # search in left subarray\n",
        "\n",
        "      else:\n",
        "        left = mid + 1 # search in right subarray\n",
        "\n",
        "    else:\n",
        "      if target<=arr[right] and target>arr[mid]:\n",
        "        left = mid+1   # search in right subarray\n",
        "      else:\n",
        "        right = mid-1   # search in left subarray\n",
        "\n",
        "  return -1\n",
        "\n",
        "\n",
        "print(search_target_value_in_rotated_sorted_arr([4,5,6,7,0,1,2], 0))\n",
        "print(search_target_value_in_rotated_sorted_arr([1,2,3,4,5,6], 6))\n",
        "print(search_target_value_in_rotated_sorted_arr([7,8,9,1],1))\n",
        "print(search_target_value_in_rotated_sorted_arr([7,8,9,1,2,3],7))"
      ],
      "metadata": {
        "id": "FactjDVhiziw",
        "colab": {
          "base_uri": "https://localhost:8080/"
        },
        "outputId": "96aff1ee-0bf3-47fe-f8bd-643fd0da9c82"
      },
      "execution_count": null,
      "outputs": [
        {
          "output_type": "stream",
          "name": "stdout",
          "text": [
            "4\n",
            "5\n",
            "3\n",
            "0\n"
          ]
        }
      ]
    },
    {
      "cell_type": "markdown",
      "source": [
        "17. Find the peak element in an array. A peak element is greater than its neighbors.\n",
        "\n",
        "input: nums=[1,2,3,1]\n",
        "output: 2 (index of peak element)"
      ],
      "metadata": {
        "id": "S5KxfrlkLPpN"
      }
    },
    {
      "cell_type": "code",
      "source": [
        "def find_peak_element(arr):\n",
        "  n=len(arr)\n",
        "  for i in range(n):\n",
        "    if (i==0 or arr[i]>arr[i-1])  and (i==n-1 or arr[i]>arr[i+1]):\n",
        "      return i\n",
        "\n",
        "  return -1\n",
        "print(find_peak_element([1,2,3,4,5]))\n",
        "print(find_peak_element([5,4,1,2]))\n",
        "print(find_peak_element([1,3,7,4,9]))\n",
        "print(find_peak_element([3,3,3,3,3,3]))\n",
        "print(find_peak_element([2,7,1,8,7,4,3,4,2,0]))\n",
        "print(find_peak_element([2,2,1,8,7,4,3,4,2,0]))"
      ],
      "metadata": {
        "colab": {
          "base_uri": "https://localhost:8080/"
        },
        "id": "kCKlessAUKmR",
        "outputId": "ec535e6f-af46-4e32-edcc-34997a1c4fe5"
      },
      "execution_count": null,
      "outputs": [
        {
          "output_type": "stream",
          "name": "stdout",
          "text": [
            "4\n",
            "0\n",
            "2\n",
            "-1\n",
            "1\n",
            "3\n"
          ]
        }
      ]
    },
    {
      "cell_type": "markdown",
      "source": [
        "18. Given a m x n matrix where each row and column is sorted in ascending order, count the number of negative numbers.\n",
        "\n",
        "input: grid=[[4,3,2,-1], [3,2,1,-1], [1,1,-1,-2], [-1,-1,-2,-3]]\n",
        "output: 8"
      ],
      "metadata": {
        "id": "zV3K9Wkmtgm5"
      }
    },
    {
      "cell_type": "code",
      "source": [
        "def count_negative_numbers_in_matrix(arr):\n",
        "\n",
        "  count = 0\n",
        "  n = len(arr)\n",
        "  for i in range(n):\n",
        "    for j in range(n):\n",
        "      if arr[i][j]< 0:\n",
        "        count +=1\n",
        "\n",
        "  return count\n",
        "\n",
        "arr=[[4,3,2,-1], [3,2,1,-1], [1,1,-1,-2], [-1,-1,-2,-3]]\n",
        "print(count_negative_numbers_in_matrix(arr))"
      ],
      "metadata": {
        "colab": {
          "base_uri": "https://localhost:8080/"
        },
        "id": "ntB7cH5pqUVB",
        "outputId": "f4b6e16e-d3fd-4877-9e6e-bc823f6cbc14"
      },
      "execution_count": null,
      "outputs": [
        {
          "output_type": "stream",
          "name": "stdout",
          "text": [
            "8\n"
          ]
        }
      ]
    },
    {
      "cell_type": "markdown",
      "source": [
        "19. Given a 2D matrix sorted in ascending order in each row, and the first integer of each row is greater than the last integer of the previous row, determine if a target value is present in the matrix.\n",
        "\n",
        "input: matrix:[[1,3,5,7], [10,11,16,20], [23,30,34,60]], target = 3\n",
        "output: True"
      ],
      "metadata": {
        "id": "IS0jieWE2I46"
      }
    },
    {
      "cell_type": "code",
      "source": [
        "def is_target_value_present(matrix, target):\n",
        "\n",
        "  rows, cols = len(matrix), len(matrix[0])\n",
        "\n",
        "  row, col = 0, cols-1  # starts from the element in right top corner\n",
        "\n",
        "  while row < rows and col >= 0 :\n",
        "    if matrix[row][col] == target:\n",
        "      return True\n",
        "\n",
        "    elif matrix[row][col] > target:\n",
        "      col -=1\n",
        "\n",
        "    else:\n",
        "      row+=1\n",
        "\n",
        "  return -1\n",
        "\n",
        "matrix = [[1,3,5,7], [10,11,16,20], [23,30,34,60]]\n",
        "is_target_value_present(matrix, 3)"
      ],
      "metadata": {
        "colab": {
          "base_uri": "https://localhost:8080/"
        },
        "id": "wNH1Q0jiy9Rf",
        "outputId": "76e41e20-f5e9-4c26-a25f-84d36cdb7975"
      },
      "execution_count": null,
      "outputs": [
        {
          "output_type": "execute_result",
          "data": {
            "text/plain": [
              "True"
            ]
          },
          "metadata": {},
          "execution_count": 52
        }
      ]
    },
    {
      "cell_type": "markdown",
      "source": [
        "20. Given two sorted arrays, find the median of the combined sorted array.\n",
        "\n",
        "input: nums1 = [1,3], nums2 = [2]\n",
        "output: 2"
      ],
      "metadata": {
        "id": "4iKjFUYVG4qK"
      }
    },
    {
      "cell_type": "code",
      "source": [
        "def find_median_sorted_arrays(arr1, arr2):\n",
        "\n",
        "  total_length= len(arr1) + len(arr2)\n",
        "\n",
        "  if total_length%2==0:\n",
        "    # even case: average of two middle elements\n",
        "    mid1=(len(arr1)-1)//2\n",
        "    mid2=len(arr2)//2\n",
        "    return (arr1[mid1]+arr2[mid2])/2\n",
        "\n",
        "  else:\n",
        "    # odd case: middle element of the combined sorted array\n",
        "    mid=total_length//2\n",
        "    # use two pointer to merge the arrays and find the mid element\n",
        "    i, j, count = 0, 0, 0\n",
        "    while count < mid+1:\n",
        "      if i == len(arr1):\n",
        "        median=arr2[j]\n",
        "        j+=1\n",
        "\n",
        "      elif j==len(arr2):\n",
        "        median = arr1[i]\n",
        "        i+=1\n",
        "\n",
        "      elif arr1[i] <= arr2[j]:\n",
        "        median = arr1[i]\n",
        "        i+=1\n",
        "      else:\n",
        "        median=arr2[j]\n",
        "      count+=1\n",
        "    return median\n",
        "\n",
        "arr1=[1,3,5,7,9]\n",
        "arr2=[2,4,6]\n",
        "median=find_median_sorted_arrays(arr1, arr2)\n",
        "print(median)"
      ],
      "metadata": {
        "colab": {
          "base_uri": "https://localhost:8080/"
        },
        "id": "VP8LZ2lhH5Xl",
        "outputId": "84036214-4c78-4a85-d31b-5b9e95d2fb58"
      },
      "execution_count": null,
      "outputs": [
        {
          "output_type": "stream",
          "name": "stdout",
          "text": [
            "4.5\n"
          ]
        }
      ]
    },
    {
      "cell_type": "markdown",
      "source": [
        "21. Given a sorted character array and a target letter, find the smallest letter in the array that is greater than the target.\n",
        "\n",
        "input: letters: ['c', 'f', 'j'],\n",
        "target = 'a'\n",
        "output: 'c'\n"
      ],
      "metadata": {
        "id": "gTBRwLSfHklp"
      }
    },
    {
      "cell_type": "code",
      "source": [
        "def find_next_letter(letters, target):\n",
        "  left, right = 0, len(letters) - 1\n",
        "\n",
        "  while left <= right:\n",
        "    mid = (left + right) // 2\n",
        "\n",
        "    # Access the individual character at letters[mid] for comparison\n",
        "    if letters[mid] <= target:  # Compare characters, not lists\n",
        "      left = mid + 1\n",
        "    else:\n",
        "      right = mid - 1\n",
        "\n",
        "  # If left is out of bounds, no letter is greater than the target\n",
        "  if left == len(letters):\n",
        "    return None\n",
        "\n",
        "  return letters[left]  # Return the character, not the list\n",
        "\n",
        "# Example usage\n",
        "letters = ['c', 'f', 'j']\n",
        "target = 'a'\n",
        "\n",
        "next_letter = find_next_letter(letters, target)\n",
        "\n",
        "if next_letter:\n",
        "  print(f\"Next letter: {next_letter}\")\n",
        "else:\n",
        "  print(\"No letter greater than the target\")"
      ],
      "metadata": {
        "colab": {
          "base_uri": "https://localhost:8080/"
        },
        "id": "u2dhRirGlmuo",
        "outputId": "939c84df-7238-4b3a-9721-c0113faa6d57"
      },
      "execution_count": 8,
      "outputs": [
        {
          "output_type": "stream",
          "name": "stdout",
          "text": [
            "Next letter: c\n"
          ]
        }
      ]
    },
    {
      "cell_type": "markdown",
      "source": [
        "22. Given an array with n objects colored red, white, or blue, sort them in-place so that objects of the same color are adjacent, with the colors in the order red, white, and blue.\n",
        "\n",
        "input: nums = [2,0,2,1,1,0]\n",
        "output: [0,0,1,1,2,2]"
      ],
      "metadata": {
        "id": "EqnCg4OTPUqo"
      }
    },
    {
      "cell_type": "code",
      "source": [
        "def sort_inplace(arr):\n",
        "  n = len(arr)\n",
        "\n",
        "  for i in range(n):\n",
        "    min_index = i\n",
        "    for j in range(i+1, n):\n",
        "      if arr[j]<arr[min_index]:\n",
        "        min_index = j\n",
        "\n",
        "    arr[i], arr[min_index] = arr[min_index], arr[i]\n",
        "\n",
        "nums=[2,0,2,1,1,0]\n",
        "sort_inplace(nums)\n",
        "print(nums)"
      ],
      "metadata": {
        "colab": {
          "base_uri": "https://localhost:8080/"
        },
        "id": "WsSB9p2yP5mx",
        "outputId": "63f62872-5b85-4cd6-bb1c-bdcdcbac8c0f"
      },
      "execution_count": null,
      "outputs": [
        {
          "output_type": "stream",
          "name": "stdout",
          "text": [
            "[0, 0, 1, 1, 2, 2]\n"
          ]
        }
      ]
    },
    {
      "cell_type": "markdown",
      "source": [
        "23. Find the kth largest  element in an unsorted array.\n",
        "input: nums = [3,2,1,5,6,4], k=2\n",
        "output: 5\n"
      ],
      "metadata": {
        "id": "jp1eAJgIVhS9"
      }
    },
    {
      "cell_type": "code",
      "source": [
        "import heapq\n",
        "\n",
        "def find_kth_largest(arr, k):\n",
        "  heap = []\n",
        "  for num in arr:\n",
        "    # create a min-heap, it ensures that the smallest element is always at the top.\n",
        "    heapq.heappush(heap, num)\n",
        "\n",
        "    # maintain a heap of size k , keeping only the k largest elements\n",
        "    while len(heap)>k:\n",
        "      heapq.heappop(heap)\n",
        "\n",
        "  return heapq.heappop(heap)  # the top element of the heap is the kth largest\n",
        "\n",
        "\n",
        "arr=[3,2,1,5,6,4]\n",
        "find_kth_largest(arr,2)"
      ],
      "metadata": {
        "colab": {
          "base_uri": "https://localhost:8080/"
        },
        "id": "t-F6mYb_UXiz",
        "outputId": "f6b3a801-b684-4d80-db41-3bd8ba6cd626"
      },
      "execution_count": null,
      "outputs": [
        {
          "output_type": "execute_result",
          "data": {
            "text/plain": [
              "5"
            ]
          },
          "metadata": {},
          "execution_count": 65
        }
      ]
    },
    {
      "cell_type": "markdown",
      "source": [
        "24. Given an unsorted array, reorder it in-place such that nums[0]<=nums[1]>=nums[2]<=nums[3]....\n",
        "input: nums = [3,5,2,1,6,4]\n",
        "output: [3,5,1,6,2,4]"
      ],
      "metadata": {
        "id": "f3fQWEbtgr2l"
      }
    },
    {
      "cell_type": "code",
      "source": [
        "def reorder_in_place_waveForm(arr):\n",
        "# the number at even index should be smaller than the left and right element\n",
        "\n",
        "  n= len(arr)\n",
        "\n",
        "  for i in range(0, n-1, 2):\n",
        "    # check for left element\n",
        "    if (i>0 and arr[i]>arr[i-1]):\n",
        "      arr[i], arr[i-1] = arr[i-1], arr[i]\n",
        "      # check for right element\n",
        "    if (i<n-1 and arr[i]>arr[i+1]):\n",
        "      arr[i], arr[i+1] = arr[i+1], arr[i]\n",
        "\n",
        "arr=[3,5,2,1,6,4]\n",
        "reorder_in_place_waveForm(arr)\n",
        "print(arr)"
      ],
      "metadata": {
        "id": "2QijI6q3Yp8S",
        "colab": {
          "base_uri": "https://localhost:8080/"
        },
        "outputId": "8a67825a-392c-4a96-e6f2-c744bb35a84e"
      },
      "execution_count": null,
      "outputs": [
        {
          "output_type": "stream",
          "name": "stdout",
          "text": [
            "[3, 5, 1, 6, 2, 4]\n"
          ]
        }
      ]
    },
    {
      "cell_type": "markdown",
      "source": [
        "25. Given an array of integers, calculate the sum of all its elements.\n",
        "\n",
        "input: [1,2,3,4,5]\n",
        "output: 15"
      ],
      "metadata": {
        "id": "wUfvWzLsj01O"
      }
    },
    {
      "cell_type": "code",
      "source": [
        "def sum_of_all_elements(arr):\n",
        "  sum = 0\n",
        "  for num in arr:\n",
        "    sum+=num\n",
        "\n",
        "  return sum\n",
        "\n",
        "arr=[1,2,3,4,5]\n",
        "sum_of_all_elements(arr)"
      ],
      "metadata": {
        "colab": {
          "base_uri": "https://localhost:8080/"
        },
        "id": "8BqwmWa1kI3t",
        "outputId": "568f8500-040d-4af7-cc34-463df143c461"
      },
      "execution_count": null,
      "outputs": [
        {
          "output_type": "execute_result",
          "data": {
            "text/plain": [
              "15"
            ]
          },
          "metadata": {},
          "execution_count": 67
        }
      ]
    },
    {
      "cell_type": "markdown",
      "source": [
        "26. Find the maximum element in an array of integers.\n",
        "\n",
        "input: [3,7,2,9,1]\n",
        "output: 9"
      ],
      "metadata": {
        "id": "tLOXq3k1lHUK"
      }
    },
    {
      "cell_type": "code",
      "source": [
        "def find_maximum_element(arr):\n",
        "\n",
        "  max = arr[0]\n",
        "\n",
        "  for num in arr:\n",
        "    if num>max:\n",
        "      max = num\n",
        "  return max\n",
        "\n",
        "arr=[3,7,2,9,55,12,34,23,1234,1]\n",
        "find_maximum_element(arr)"
      ],
      "metadata": {
        "colab": {
          "base_uri": "https://localhost:8080/"
        },
        "id": "jr3SOtJLkrec",
        "outputId": "b68b6281-8739-4766-da3b-b23359c44a8b"
      },
      "execution_count": null,
      "outputs": [
        {
          "output_type": "execute_result",
          "data": {
            "text/plain": [
              "1234"
            ]
          },
          "metadata": {},
          "execution_count": 69
        }
      ]
    },
    {
      "cell_type": "markdown",
      "source": [],
      "metadata": {
        "id": "fkASyBc1nLqK"
      }
    },
    {
      "cell_type": "markdown",
      "source": [
        "27. Implement linear search to find the index of a target element in an array.\n",
        "input: [5,3,8,2,7,4], target= 8\n",
        "output: 2"
      ],
      "metadata": {
        "id": "77ct9-XendA-"
      }
    },
    {
      "cell_type": "code",
      "source": [
        "def find_target_element(arr,target):\n",
        "  for i in range(len(arr)):\n",
        "    if arr[i]==target:\n",
        "      return i\n",
        "\n",
        "  return -1\n",
        "\n",
        "arr=[5,3,8,2,7,4]\n",
        "find_target_element(arr,8)"
      ],
      "metadata": {
        "colab": {
          "base_uri": "https://localhost:8080/"
        },
        "id": "ExEShw6vmxbI",
        "outputId": "e5131144-9460-4717-b5fe-869c1564fc46"
      },
      "execution_count": null,
      "outputs": [
        {
          "output_type": "execute_result",
          "data": {
            "text/plain": [
              "2"
            ]
          },
          "metadata": {},
          "execution_count": 73
        }
      ]
    },
    {
      "cell_type": "markdown",
      "source": [
        "28. Calculate the factorial of a given number.\n",
        "input: 5\n",
        "output: 120 (as 5!=5 * 4 * 3 * 2 * 1 = 120)"
      ],
      "metadata": {
        "id": "dfVcZSSLoeHz"
      }
    },
    {
      "cell_type": "code",
      "source": [
        "def find_factorial_Rec(n):\n",
        "  # factorial of negative number not define\n",
        "  if n<0:\n",
        "    print('factorial of negative number is not defined')\n",
        "    return\n",
        "\n",
        "  # base case condition\n",
        "  elif n==0:\n",
        "    return 1\n",
        "  # recursive function call\n",
        "  else:\n",
        "    return n * find_factorial_Rec(n-1)\n",
        "\n",
        "find_factorial_Rec(5)"
      ],
      "metadata": {
        "colab": {
          "base_uri": "https://localhost:8080/"
        },
        "id": "c-CAFUxcoVsU",
        "outputId": "328b6270-430b-435b-8499-11667711a9fc"
      },
      "execution_count": null,
      "outputs": [
        {
          "output_type": "execute_result",
          "data": {
            "text/plain": [
              "120"
            ]
          },
          "metadata": {},
          "execution_count": 81
        }
      ]
    },
    {
      "cell_type": "markdown",
      "source": [
        "29. Check if a given number is a prime number.\n",
        "input: 7\n",
        "output: True"
      ],
      "metadata": {
        "id": "oyGZ0u0nt6mG"
      }
    },
    {
      "cell_type": "code",
      "source": [
        "def check_prime_number(num):\n",
        "  if num<=1:\n",
        "    return False\n",
        "  # check for divisibility by numbers upto the square root of n\n",
        "  for i in range(2, int(num**0.5)+1):\n",
        "    if num%i==0:\n",
        "      return False\n",
        "\n",
        "  return True  # if no divisors found, n is prime\n",
        "\n",
        "\n",
        "print(check_prime_number(7))\n",
        "print(check_prime_number(5))\n",
        "print(check_prime_number(19))\n",
        "print(check_prime_number(0))\n",
        "print(check_prime_number(-1))"
      ],
      "metadata": {
        "colab": {
          "base_uri": "https://localhost:8080/"
        },
        "id": "A9cf-9Ryq-8m",
        "outputId": "fb448fc9-d239-4a62-e5cf-d7fc02d91941"
      },
      "execution_count": null,
      "outputs": [
        {
          "output_type": "stream",
          "name": "stdout",
          "text": [
            "True\n",
            "True\n",
            "True\n",
            "False\n",
            "False\n"
          ]
        }
      ]
    },
    {
      "cell_type": "markdown",
      "source": [
        "30. Generate the Fibonacci series up to a given number n.\n",
        "input : 8\n",
        "output: [0,1,1,2,3,5,8,13]"
      ],
      "metadata": {
        "id": "EbrexwNW0Yoj"
      }
    },
    {
      "cell_type": "code",
      "source": [
        "def fibonacci_series(n):\n",
        "  if n<=0:\n",
        "    return []  # handle empty case\n",
        "  if n==1:\n",
        "    return [0]\n",
        "  fib_series=[0,1]  # initialize with first two numbers\n",
        "  while(len(fib_series)<n):\n",
        "    next_fib = fib_series[-1] + fib_series[-2]\n",
        "    fib_series.append(next_fib)\n",
        "\n",
        "  return fib_series\n",
        "\n",
        "fibonacci_series(10)"
      ],
      "metadata": {
        "colab": {
          "base_uri": "https://localhost:8080/"
        },
        "id": "DEoEjk9xxiQy",
        "outputId": "74f543f1-6a80-488e-cf49-7ea6f17dd3fa"
      },
      "execution_count": null,
      "outputs": [
        {
          "output_type": "execute_result",
          "data": {
            "text/plain": [
              "[0, 1, 1, 2, 3, 5, 8, 13, 21, 34]"
            ]
          },
          "metadata": {},
          "execution_count": 102
        }
      ]
    },
    {
      "cell_type": "markdown",
      "source": [
        "31. Calculate the power of a number using recursion.\n",
        "input: base=3, exponent = 4\n",
        "output: 81"
      ],
      "metadata": {
        "id": "jDxL_Kr764C8"
      }
    },
    {
      "cell_type": "code",
      "source": [
        "def power_find(num, pow):\n",
        "\n",
        "  if pow<0:  # handle negative powers\n",
        "    print('provide the positive power value')\n",
        "    return\n",
        "\n",
        "\n",
        "  # base case condition\n",
        "  if pow==0:\n",
        "    return 1\n",
        "\n",
        "  else:\n",
        "    mid = pow//2\n",
        "    # recursive function call\n",
        "    result = power_find(num, mid)\n",
        "    final_result = result * result\n",
        "\n",
        "    if pow%2==0:  # handle even power\n",
        "      return final_result\n",
        "    else:               # handle odd power\n",
        "      return num * final_result\n",
        "\n",
        "\n",
        "\n",
        "power_find(2,17)"
      ],
      "metadata": {
        "colab": {
          "base_uri": "https://localhost:8080/"
        },
        "id": "l3iU4xMJ5X4T",
        "outputId": "92bfbdee-ac2b-4c7d-dc35-887b3f24c63a"
      },
      "execution_count": null,
      "outputs": [
        {
          "output_type": "execute_result",
          "data": {
            "text/plain": [
              "131072"
            ]
          },
          "metadata": {},
          "execution_count": 35
        }
      ]
    },
    {
      "cell_type": "markdown",
      "source": [
        "32. Reverse a given string.\n",
        "input: 'hello'\n",
        "output: 'olleh'"
      ],
      "metadata": {
        "id": "vmlCZdWT-SM8"
      }
    },
    {
      "cell_type": "code",
      "source": [
        "def reverse_string(string):\n",
        "  n= len(string)\n",
        "\n",
        "  for i in range(n-1, -1, -1):\n",
        "    print(string[i],end='')\n",
        "\n",
        "string='hello'\n",
        "reverse_string(string)"
      ],
      "metadata": {
        "id": "qYnC1wfkA7iO",
        "colab": {
          "base_uri": "https://localhost:8080/"
        },
        "outputId": "a79df084-bedb-4b8b-dbd4-e1505d4f9825"
      },
      "execution_count": null,
      "outputs": [
        {
          "output_type": "stream",
          "name": "stdout",
          "text": [
            "olleh"
          ]
        }
      ]
    },
    {
      "cell_type": "code",
      "source": [],
      "metadata": {
        "id": "LBhSHL6Vu9UG"
      },
      "execution_count": null,
      "outputs": []
    }
  ]
}